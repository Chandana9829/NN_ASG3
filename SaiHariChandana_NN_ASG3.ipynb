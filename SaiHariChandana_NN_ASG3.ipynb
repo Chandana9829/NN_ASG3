{
 "cells": [
  {
   "cell_type": "code",
   "execution_count": 2,
   "id": "99fcdecc-0a7b-46a3-ae06-e0f2f0a35fed",
   "metadata": {},
   "outputs": [
    {
     "name": "stdout",
     "output_type": "stream",
     "text": [
      "full time employee Benefits.\n",
      "Average salary: 350000.0\n"
     ]
    }
   ],
   "source": [
    "#QUESTION 1\n",
    "#create a class employee.\n",
    "class Employee:\n",
    "    #create a datamember to count the no.of employees.\n",
    "    no_of_employees = 0\n",
    "\n",
    "    #create a constructor to initialize name,family,salary,department.\n",
    "    def __init__(self, name, family_name, salary, department):\n",
    "        self.__name = name\n",
    "        self.__family_name = family_name\n",
    "        self.salary = salary\n",
    "        self.__department = department\n",
    "        Employee.no_of_employees += 1\n",
    "\n",
    "\n",
    "    #create a function to average salary.\n",
    "    def average_salary(employees):\n",
    "        sum = 0\n",
    "        for employee in employees:\n",
    "            sum += employee.salary\n",
    "        return sum / Employee.no_of_employees\n",
    "    \n",
    "\n",
    "#create a fulltime emlpoyee class and it should inherit the properties of Employee class.\n",
    "class FulltimeEmployee(Employee) :\n",
    "\n",
    "    def __init__(self, name, family_name, salary, department):\n",
    "        super().__init__(name, family_name, salary, department)\n",
    "\n",
    "    def full_time_benefits(self):\n",
    "        print(\"full time employee Benefits.\")\n",
    "    \n",
    "\n",
    "#create the instances of Fulltime Employee class and employee class and call their member functions.\n",
    "def main():\n",
    "    employees = []\n",
    "    fte1 = FulltimeEmployee(\"E1\", \"Family1\", 500000, \"Developer\")\n",
    "    fte1.full_time_benefits()\n",
    "    employees.append(fte1)\n",
    "    fte2 = FulltimeEmployee(\"E2\", \"Family2\", 300000, \"Tester\")\n",
    "    employees.append(fte2)\n",
    "    emp1 = Employee(\"E3\", \"Family3\", 250000, \"HR\")\n",
    "    employees.append(emp1)\n",
    "    emp2 = Employee(\"E4\", \"Family4\", 350000, \"BA\")\n",
    "    employees.append(emp2)\n",
    "    print(\"Average salary:\", FulltimeEmployee.average_salary(employees))\n",
    "\n",
    "\n",
    "if __name__ == \"__main__\":\n",
    "    main()\n"
   ]
  },
  {
   "cell_type": "code",
   "execution_count": 1,
   "id": "a8101284-2063-4e6f-b20d-78f774fbab8a",
   "metadata": {},
   "outputs": [
    {
     "name": "stdout",
     "output_type": "stream",
     "text": [
      "Original array:\n",
      "[ 5.67000838 14.49426606 13.45336079 14.61905027 15.74327897  3.01127097\n",
      " 14.73193385  9.57883816 19.90390434  3.09133785  4.7719876   3.46196796\n",
      "  1.78184156 10.89122602  2.14378686 13.09680514 19.68951501 16.10465046\n",
      " 16.42360968 11.42477952]\n",
      "Reshaped Array: \n",
      "[[ 5.67000838 14.49426606 13.45336079 14.61905027 15.74327897]\n",
      " [ 3.01127097 14.73193385  9.57883816 19.90390434  3.09133785]\n",
      " [ 4.7719876   3.46196796  1.78184156 10.89122602  2.14378686]\n",
      " [13.09680514 19.68951501 16.10465046 16.42360968 11.42477952]]\n",
      "Maximum value replaced by 0:\n",
      "[[ 5.67000838 14.49426606 13.45336079 14.61905027  0.        ]\n",
      " [ 3.01127097 14.73193385  9.57883816  0.          3.09133785]\n",
      " [ 4.7719876   3.46196796  1.78184156  0.          2.14378686]\n",
      " [13.09680514  0.         16.10465046 16.42360968 11.42477952]]\n"
     ]
    }
   ],
   "source": [
    "#QUESTION2 \n",
    "#create a randomm vector of size 20 having only float in the range 1-20.\n",
    "import numpy as np\n",
    "x=np.random.uniform(1,20,20)\n",
    "print(\"Original array:\")\n",
    "print(x)\n",
    "#reshape the array to 4 by 5\n",
    "x1=x.reshape(4,5)\n",
    "print(\"Reshaped Array: \")\n",
    "print(x1)\n",
    "#replace the max in each row by 0  (axis=1)\n",
    "x1[np.arange(len(x1)), x1.argmax(1)]=0\n",
    "print(\"Maximum value replaced by 0:\")\n",
    "print(x1)"
   ]
  }
 ],
 "metadata": {
  "kernelspec": {
   "display_name": "Python 3 (ipykernel)",
   "language": "python",
   "name": "python3"
  },
  "language_info": {
   "codemirror_mode": {
    "name": "ipython",
    "version": 3
   },
   "file_extension": ".py",
   "mimetype": "text/x-python",
   "name": "python",
   "nbconvert_exporter": "python",
   "pygments_lexer": "ipython3",
   "version": "3.12.1"
  }
 },
 "nbformat": 4,
 "nbformat_minor": 5
}
